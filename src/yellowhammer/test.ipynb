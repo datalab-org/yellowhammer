{
 "cells": [
  {
   "cell_type": "code",
   "execution_count": 5,
   "metadata": {},
   "outputs": [],
   "source": [
    "from pathlib import Path\n",
    "from langchain_community.document_loaders import TextLoader\n",
    "\n",
    "path = \"datalab-api-prompt.md\"\n",
    "loader = TextLoader(path)\n",
    "API_PROMPT = loader.load()[0].page_content\n",
    "\n",
    "path = \"system-prompt.md\"\n",
    "loader = TextLoader(path)\n",
    "SYSTEM_PROMPT = loader.load()[0].page_content\n"
   ]
  },
  {
   "cell_type": "code",
   "execution_count": 2,
   "metadata": {},
   "outputs": [
    {
     "data": {
      "text/plain": [
       "'Use the datalab Python API package to query entries on the datalab instance at https://demo.datalab-org.io/.\\nEach method of the DatalabClient class will return a dictionary constructed directly\\nfrom the JSON response of the Datalab API.\\n\\nDatalab uses \"data blocks\" to take a file attached to a sample, parse it\\naccording to some scientific schema, and then make a plot.\\n\\nThe rest of this prompt contains the README for the datalab python API module `datalab_api`, which you already have installed.\\n\\nAssume the `DATALAB_API_KEY` has been set an environment variable.\\n\\nPython API\\nThis package implements basic functionality for displaying and manipulating entries:\\n\\n```python\\nfrom datalab_api import DatalabClient\\n\\nwith DatalabClient(\"https://demo.datalab-org.io\") as client:\\n\\n    # Get the info about this datalab instance\\n    client.get_info()\\n\\n    # Get the current user\\'s info\\n    client.authenticate()\\n\\n    # Search for items with the string\\n    items = client.search_items(\"search-values\")\\n\\n    # List all items of a given type\\n    # Types can be \\'samples\\' or \\'starting_materials\\'\\n    items = client.get_items(item_type=\"samples\")\\n\\n    # Get more info on a particular item called \\'test\\'\\n    item = client.get_item(item_id=\"test\")\\n\\n    # Create a new item with some data that matches the corresponding `item_type` schema\\n    json_data = {\"chemform\": \"NaCl\"}\\n    client.create_item(item_id=\"test_new\", item_type=\"samples\", item_data=json_data)\\n\\n    # Attach a file to an item and get the uploaded ID\\n    file_response = client.upload_file(filepath=\"my_echem_data.mpr\", item_id=\"test\")\\n    file_id = file_response[\"file_id\"]\\n\\n    # Create a data block for a sample, then show the plot\\n    client.create_data_block(item_id=\"test\", file_ids=file_id)\\n\\n    # Download all files attached to a sample and return their paths\\n    file_paths = client.get_item_files(item_id=\"test\")\\n\\n    # Get the item graph, useful for finding relationships\\n    graph = client.get_item_graph()\\n\\n```\\n\\nHere is an abridged JSONSchema for a sample, that also has some info about other\\ntypes.\\n\\n```json \\n{\\n  \"title\": \"Sample\",\\n  \"description\": \"A model for representing an experimental sample.\",\\n  \"type\": \"object\",\\n  \"properties\": {\\n    \"blocks_obj\": {\\n      \"title\": \"Blocks Obj\",\\n      \"default\": {},\\n      \"type\": \"object\"\\n    },\\n    \"display_order\": {\\n      \"title\": \"Display Order\",\\n      \"default\": [],\\n      \"type\": \"array\",\\n      \"items\": {\\n        \"type\": \"string\"\\n      }\\n    },\\n    \"collections\": {\\n      \"title\": \"Collections\",\\n      \"default\": [],\\n      \"type\": \"array\",\\n      \"items\": {\\n        \"$ref\": \"#/definitions/Collection\"\\n      }\\n    },\\n    \"revision\": {\\n      \"title\": \"Revision\",\\n      \"default\": 1,\\n      \"type\": \"integer\"\\n    },\\n    \"revisions\": {\\n      \"title\": \"Revisions\",\\n      \"type\": \"object\"\\n    },\\n    \"creator_ids\": {\\n      \"title\": \"Creator Ids\",\\n      \"default\": [],\\n      \"type\": \"array\",\\n      \"items\": {\\n        \"type\": \"string\"\\n      }\\n    },\\n    \"creators\": {\\n      \"title\": \"Creators\",\\n      \"type\": \"array\",\\n      \"items\": {\\n        \"$ref\": \"#/definitions/Person\"\\n      }\\n    },\\n    \"type\": {\\n      \"title\": \"Type\",\\n      \"default\": \"samples\",\\n      \"const\": \"samples\",\\n      \"pattern\": \"^samples$\",\\n      \"type\": \"string\"\\n    },\\n    \"immutable_id\": {\\n      \"title\": \"Immutable ID\",\\n      \"type\": \"string\"\\n    },\\n    \"last_modified\": {\\n      \"title\": \"Last Modified\",\\n      \"type\": \"date\",\\n      \"format\": \"date-time\"\\n    },\\n    \"relationships\": {\\n      \"title\": \"Relationships\",\\n      \"type\": \"array\",\\n      \"items\": {\\n        \"$ref\": \"#/definitions/TypedRelationship\"\\n      }\\n    },\\n    \"refcode\": {\\n      \"title\": \"Refcode\",\\n      \"minLength\": 1,\\n      \"maxLength\": 40,\\n      \"pattern\": \"^[a-z]{2,10}:(?:[a-zA-Z0-9]+|[a-zA-Z0-9][a-zA-Z0-9._-]+[a-zA-Z0-9])$\",\\n      \"type\": \"string\"\\n    },\\n    \"item_id\": {\\n      \"title\": \"Item Id\",\\n      \"minLength\": 1,\\n      \"maxLength\": 40,\\n      \"pattern\": \"^(?:[a-zA-Z0-9]+|[a-zA-Z0-9][a-zA-Z0-9._-]+[a-zA-Z0-9])$\",\\n      \"type\": \"string\"\\n    },\\n    \"description\": {\\n      \"title\": \"Description\",\\n      \"type\": \"string\"\\n    },\\n    \"date\": {\\n      \"title\": \"Date\",\\n      \"type\": \"date\",\\n      \"format\": \"date-time\"\\n    },\\n    \"name\": {\\n      \"title\": \"Name\",\\n      \"type\": \"string\"\\n    },\\n    \"files\": {\\n      \"title\": \"Files\",\\n      \"type\": \"array\",\\n      \"items\": {\\n        \"$ref\": \"#/definitions/File\"\\n      }\\n    },\\n    \"file_ObjectIds\": {\\n      \"title\": \"File Objectids\",\\n      \"default\": [],\\n      \"type\": \"array\",\\n      \"items\": {\\n        \"type\": \"string\"\\n      }\\n    },\\n    \"chemform\": {\\n      \"title\": \"Chemform\",\\n      \"example\": [\\n        \"Na3P\",\\n        \"LiNiO2@C\"\\n      ],\\n      \"type\": \"string\"\\n    },\\n    \"synthesis_constituents\": {\\n      \"title\": \"Synthesis Constituents\",\\n      \"default\": [],\\n      \"type\": \"array\",\\n      \"items\": {\\n        \"$ref\": \"#/definitions/Constituent\"\\n      }\\n    },\\n    \"synthesis_description\": {\\n      \"title\": \"Synthesis Description\",\\n      \"type\": \"string\"\\n    }\\n  },\\n  \"required\": [\\n    \"item_id\"\\n  ],\\n  \"definitions\": {\\n    \"KnownType\": {\\n      \"title\": \"KnownType\",\\n      \"description\": \"An enumeration of the types of entry known by this implementation, should be made dynamic in the future.\",\\n      \"enum\": [\\n        \"samples\",\\n        \"starting_materials\",\\n        \"blocks\",\\n        \"files\",\\n        \"people\",\\n        \"collections\"\\n      ],\\n      \"type\": \"string\"\\n    },\\n    \"File\": {\\n      \"title\": \"File\",\\n      \"description\": \"A model for representing a file that has been tracked or uploaded to datalab.\",\\n      \"type\": \"object\",\\n      \"properties\": {\\n        \"revision\": {\\n          \"title\": \"Revision\",\\n          \"default\": 1,\\n          \"type\": \"integer\"\\n        },\\n        \"revisions\": {\\n          \"title\": \"Revisions\",\\n          \"type\": \"object\"\\n        },\\n        \"creator_ids\": {\\n          \"title\": \"Creator Ids\",\\n          \"default\": [],\\n          \"type\": \"array\",\\n          \"items\": {\\n            \"type\": \"string\"\\n          }\\n        },\\n        \"creators\": {\\n          \"title\": \"Creators\",\\n          \"type\": \"array\",\\n          \"items\": {\\n            \"$ref\": \"#/definitions/Person\"\\n          }\\n        },\\n        \"type\": {\\n          \"title\": \"Type\",\\n          \"default\": \"files\",\\n          \"const\": \"files\",\\n          \"pattern\": \"^files$\",\\n          \"type\": \"string\"\\n        },\\n        \"immutable_id\": {\\n          \"title\": \"Immutable ID\",\\n          \"type\": \"string\"\\n        },\\n        \"last_modified\": {\\n          \"title\": \"Last Modified\",\\n          \"type\": \"date\",\\n          \"format\": \"date-time\"\\n        },\\n        \"relationships\": {\\n          \"title\": \"Relationships\",\\n          \"type\": \"array\",\\n          \"items\": {\\n            \"$ref\": \"#/definitions/TypedRelationship\"\\n          }\\n        },\\n        \"size\": {\\n          \"title\": \"Size\",\\n          \"description\": \"The size of the file on disk in bytes.\",\\n          \"type\": \"integer\"\\n        },\\n        \"last_modified_remote\": {\\n          \"title\": \"Last Modified Remote\",\\n          \"description\": \"The last date/time at which the remote file was modified.\",\\n          \"type\": \"date\",\\n          \"format\": \"date-time\"\\n        },\\n        \"item_ids\": {\\n          \"title\": \"Item Ids\",\\n          \"description\": \"A list of item IDs associated with this file.\",\\n          \"type\": \"array\",\\n          \"items\": {\\n            \"type\": \"string\"\\n          }\\n        },\\n        \"blocks\": {\\n          \"title\": \"Blocks\",\\n          \"description\": \"A list of block IDs associated with this file.\",\\n          \"type\": \"array\",\\n          \"items\": {\\n            \"type\": \"string\"\\n          }\\n        },\\n        \"name\": {\\n          \"title\": \"Name\",\\n          \"description\": \"The filename on disk.\",\\n          \"type\": \"string\"\\n        },\\n        \"extension\": {\\n          \"title\": \"Extension\",\\n          \"description\": \"The file extension that the file was uploaded with.\",\\n          \"type\": \"string\"\\n        },\\n        \"original_name\": {\\n          \"title\": \"Original Name\",\\n          \"description\": \"The raw filename as uploaded.\",\\n          \"type\": \"string\"\\n        },\\n        \"location\": {\\n          \"title\": \"Location\",\\n          \"description\": \"The location of the file on disk.\",\\n          \"type\": \"string\"\\n        },\\n        \"url_path\": {\\n          \"title\": \"Url Path\",\\n          \"description\": \"The path to a remote file.\",\\n          \"type\": \"string\"\\n        },\\n        \"source\": {\\n          \"title\": \"Source\",\\n          \"description\": \"The source of the file, e.g. \\'remote\\' or \\'uploaded\\'.\",\\n          \"type\": \"string\"\\n        },\\n        \"time_added\": {\\n          \"title\": \"Time Added\",\\n          \"description\": \"The timestamp for the original file upload.\",\\n          \"type\": \"string\",\\n          \"format\": \"date-time\"\\n        },\\n        \"metadata\": {\\n          \"title\": \"Metadata\",\\n          \"description\": \"Any additional metadata.\",\\n          \"type\": \"object\"\\n        },\\n        \"representation\": {\\n          \"title\": \"Representation\"\\n        },\\n        \"source_server_name\": {\\n          \"title\": \"Source Server Name\",\\n          \"description\": \"The server name at which the file is stored.\",\\n          \"type\": \"string\"\\n        },\\n        \"source_path\": {\\n          \"title\": \"Source Path\",\\n          \"description\": \"The path to the file on the remote resource.\",\\n          \"type\": \"string\"\\n        },\\n        \"is_live\": {\\n          \"title\": \"Is Live\",\\n          \"description\": \"Whether or not the file should be watched for future updates.\",\\n          \"type\": \"boolean\"\\n        }\\n      },\\n      \"required\": [\\n        \"item_ids\",\\n        \"blocks\",\\n        \"name\",\\n        \"extension\",\\n        \"time_added\",\\n        \"is_live\"\\n      ]\\n    },\\n    \"EntryReference\": {\\n      \"title\": \"EntryReference\",\\n      \"description\": \"A reference to a database entry by ID and type.\\\\n\\\\nCan include additional arbitarary metadata useful for\\\\ninlining the item data.\",\\n      \"type\": \"object\",\\n      \"properties\": {\\n        \"type\": {\\n          \"title\": \"Type\",\\n          \"type\": \"string\"\\n        },\\n        \"name\": {\\n          \"title\": \"Name\",\\n          \"type\": \"string\"\\n        },\\n        \"immutable_id\": {\\n          \"title\": \"Immutable Id\",\\n          \"type\": \"string\"\\n        },\\n        \"item_id\": {\\n          \"title\": \"Item Id\",\\n          \"minLength\": 1,\\n          \"maxLength\": 40,\\n          \"pattern\": \"^(?:[a-zA-Z0-9]+|[a-zA-Z0-9][a-zA-Z0-9._-]+[a-zA-Z0-9])$\",\\n          \"type\": \"string\"\\n        },\\n        \"refcode\": {\\n          \"title\": \"Refcode\",\\n          \"minLength\": 1,\\n          \"maxLength\": 40,\\n          \"pattern\": \"^[a-z]{2,10}:(?:[a-zA-Z0-9]+|[a-zA-Z0-9][a-zA-Z0-9._-]+[a-zA-Z0-9])$\",\\n          \"type\": \"string\"\\n        }\\n      },\\n      \"required\": [\\n        \"type\"\\n      ]\\n    },\\n    \"InlineSubstance\": {\\n      \"title\": \"InlineSubstance\",\\n      \"type\": \"object\",\\n      \"properties\": {\\n        \"name\": {\\n          \"title\": \"Name\",\\n          \"type\": \"string\"\\n        },\\n        \"chemform\": {\\n          \"title\": \"Chemform\",\\n          \"type\": \"string\"\\n        }\\n      },\\n      \"required\": [\\n        \"name\"\\n      ]\\n    },\\n    \"Constituent\": {\\n      \"title\": \"Constituent\",\\n      \"description\": \"A constituent of a sample.\",\\n      \"type\": \"object\",\\n      \"properties\": {\\n        \"item\": {\\n          \"title\": \"Item\",\\n          \"anyOf\": [\\n            {\\n              \"$ref\": \"#/definitions/EntryReference\"\\n            },\\n            {\\n              \"$ref\": \"#/definitions/InlineSubstance\"\\n            }\\n          ]\\n        },\\n        \"quantity\": {\\n          \"title\": \"Quantity\",\\n          \"minimum\": 0,\\n          \"type\": \"number\"\\n        },\\n        \"unit\": {\\n          \"title\": \"Unit\",\\n          \"default\": \"g\",\\n          \"type\": \"string\"\\n        }\\n      },\\n      \"required\": [\\n        \"item\",\\n        \"quantity\"\\n      ]\\n    }\\n  }\\n}\\n```\\n'"
      ]
     },
     "execution_count": 2,
     "metadata": {},
     "output_type": "execute_result"
    }
   ],
   "source": [
    "API_PROMPT"
   ]
  },
  {
   "cell_type": "code",
   "execution_count": 2,
   "metadata": {},
   "outputs": [],
   "source": [
    "def load_file_content(file_path):\n",
    "    with open(file_path, 'r', encoding='utf-8') as file:\n",
    "        return file.read()\n",
    "\n",
    "# Load API_PROMPT\n",
    "api_prompt_path = \"datalab-api-prompt.md\"\n",
    "API_PROMPT_ = load_file_content(api_prompt_path)\n",
    "\n",
    "# Load SYSTEM_PROMPT\n",
    "system_prompt_path = \"system-prompt.md\"\n",
    "SYSTEM_PROMPT_ = load_file_content(system_prompt_path)"
   ]
  },
  {
   "cell_type": "code",
   "execution_count": 6,
   "metadata": {},
   "outputs": [
    {
     "data": {
      "text/plain": [
       "11679"
      ]
     },
     "execution_count": 6,
     "metadata": {},
     "output_type": "execute_result"
    }
   ],
   "source": [
    "len(API_PROMPT_)"
   ]
  },
  {
   "cell_type": "code",
   "execution_count": 7,
   "metadata": {},
   "outputs": [
    {
     "data": {
      "text/plain": [
       "11679"
      ]
     },
     "execution_count": 7,
     "metadata": {},
     "output_type": "execute_result"
    }
   ],
   "source": [
    "len(API_PROMPT)"
   ]
  },
  {
   "cell_type": "code",
   "execution_count": 3,
   "metadata": {},
   "outputs": [
    {
     "data": {
      "text/plain": [
       "698"
      ]
     },
     "execution_count": 3,
     "metadata": {},
     "output_type": "execute_result"
    }
   ],
   "source": [
    "len(SYSTEM_PROMPT_)\n"
   ]
  },
  {
   "cell_type": "code",
   "execution_count": 6,
   "metadata": {},
   "outputs": [
    {
     "data": {
      "text/plain": [
       "698"
      ]
     },
     "execution_count": 6,
     "metadata": {},
     "output_type": "execute_result"
    }
   ],
   "source": [
    "len(SYSTEM_PROMPT)"
   ]
  },
  {
   "cell_type": "code",
   "execution_count": 7,
   "metadata": {},
   "outputs": [
    {
     "data": {
      "text/plain": [
       "'You are a virtual assistant that helps scientists use the data management platform datalab to manage their experimental data, plan experiments, analyse data and plot results. Here is the documentation of the datalab API: {context}. Answer user questions and use the provided documentation to interact with datalab. Your code responses will be output to a Jupyter notebook cell that has access to the datalab API and common python scientific libraries. Ensure any code you provide can be executed with all required imports and variables defined. Structure your answer with a description of the code solution. Then list the imports. Finally list the functioning code block. Here is the user question:'"
      ]
     },
     "execution_count": 7,
     "metadata": {},
     "output_type": "execute_result"
    }
   ],
   "source": [
    "SYSTEM_PROMPT"
   ]
  },
  {
   "cell_type": "code",
   "execution_count": null,
   "metadata": {},
   "outputs": [],
   "source": []
  }
 ],
 "metadata": {
  "kernelspec": {
   "display_name": ".venv",
   "language": "python",
   "name": "python3"
  },
  "language_info": {
   "codemirror_mode": {
    "name": "ipython",
    "version": 3
   },
   "file_extension": ".py",
   "mimetype": "text/x-python",
   "name": "python",
   "nbconvert_exporter": "python",
   "pygments_lexer": "ipython3",
   "version": "3.10.9"
  }
 },
 "nbformat": 4,
 "nbformat_minor": 2
}
