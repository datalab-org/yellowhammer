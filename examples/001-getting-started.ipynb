{
 "cells": [
  {
   "cell_type": "code",
   "execution_count": null,
   "id": "929301f6-5982-4662-b68f-9e72269cace7",
   "metadata": {},
   "outputs": [],
   "source": [
    "%reload_ext jupyter_ai "
   ]
  },
  {
   "cell_type": "code",
   "execution_count": 5,
   "id": "f7f8325c-18b8-4943-b7e8-14a839060958",
   "metadata": {},
   "outputs": [
    {
     "data": {
      "text/markdown": [
       "Here's the information about Datalab in markdown format:\n",
       "\n",
       "# Datalab\n",
       "\n",
       "Datalab is a tool developed by Google Cloud Platform that provides an interactive environment for data exploration, analysis, and machine learning. Key features include:\n",
       "\n",
       "## Features\n",
       "\n",
       "- **Jupyter Notebooks**: Uses Jupyter notebooks for interactive coding and visualization\n",
       "- **Cloud Integration**: Seamlessly integrates with Google Cloud services\n",
       "- **Big Data Support**: Designed to work with large datasets using BigQuery and other Google Cloud data services\n",
       "- **Pre-installed Libraries**: Comes with popular data science libraries like pandas, numpy, and scikit-learn\n",
       "- **Collaborative**: Allows for easy sharing and collaboration on data projects\n",
       "\n",
       "## Use Cases\n",
       "\n",
       "- Data exploration and visualization\n",
       "- Machine learning model development\n",
       "- Big data analysis\n",
       "- Prototyping data pipelines\n",
       "\n",
       "## Advantages\n",
       "\n",
       "- Easy setup and configuration\n",
       "- Cost-effective (pay only for resources used)\n",
       "- Scalable to handle large datasets\n",
       "- Integrates well with other Google Cloud services\n",
       "\n",
       "Datalab is particularly useful for data scientists and analysts who work with Google Cloud Platform and need a powerful, cloud-based environment for their data projects."
      ],
      "text/plain": [
       "<IPython.core.display.Markdown object>"
      ]
     },
     "execution_count": 5,
     "metadata": {
      "text/markdown": {
       "jupyter_ai": {
        "model_id": "claude-3-5-sonnet-20240620",
        "provider_id": "anthropic-chat"
       }
      }
     },
     "output_type": "execute_result"
    }
   ],
   "source": [
    "%%ai anthropic-chat:claude-3-5-sonnet-20240620\n",
    "Do you know what datalab is?"
   ]
  },
  {
   "cell_type": "code",
   "execution_count": 15,
   "id": "12aaa0b1-6ccd-4645-b578-d1fde5cd2614",
   "metadata": {},
   "outputs": [
    {
     "name": "stderr",
     "output_type": "stream",
     "text": [
      "UsageError: Line magic function `%%yellowhammer` not found.\n"
     ]
    }
   ],
   "source": [
    "\"\"\" (mock up ) \"\"\"\n",
    "%%yellowhammer\n",
    "Do you know what datalab is?"
   ]
  },
  {
   "cell_type": "markdown",
   "id": "b943d5eb-a83a-4ed5-b531-e69a44d6d701",
   "metadata": {},
   "source": [
    "Yes, *datalab* is ACTUALLY an open source research data management tool for chemistry and materials science, and here is the functionality I know about..."
   ]
  },
  {
   "cell_type": "code",
   "execution_count": null,
   "id": "8d93f30b-3dde-457a-8aa9-9d08cc19f3ad",
   "metadata": {},
   "outputs": [],
   "source": []
  }
 ],
 "metadata": {
  "kernelspec": {
   "display_name": "Python 3 (ipykernel)",
   "language": "python",
   "name": "python3"
  },
  "language_info": {
   "codemirror_mode": {
    "name": "ipython",
    "version": 3
   },
   "file_extension": ".py",
   "mimetype": "text/x-python",
   "name": "python",
   "nbconvert_exporter": "python",
   "pygments_lexer": "ipython3",
   "version": "3.10.13"
  }
 },
 "nbformat": 4,
 "nbformat_minor": 5
}
